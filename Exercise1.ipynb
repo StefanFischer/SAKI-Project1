{
 "cells": [
  {
   "cell_type": "markdown",
   "metadata": {},
   "source": [
    "# Exercise 1"
   ]
  },
  {
   "cell_type": "markdown",
   "metadata": {},
   "source": [
    "Exercise 1 of SAKI at FAU: Transaction Classification with Naive Bayes Classifier "
   ]
  },
  {
   "cell_type": "markdown",
   "metadata": {},
   "source": [
    "## Library Imports"
   ]
  },
  {
   "cell_type": "code",
   "execution_count": 1,
   "metadata": {},
   "outputs": [],
   "source": [
    "import numpy as np\n",
    "import pandas as pd\n",
    "from sklearn.feature_extraction.text import CountVectorizer\n",
    "from sklearn.naive_bayes import GaussianNB\n",
    "from sklearn.model_selection import train_test_split\n",
    "from sklearn.metrics import plot_confusion_matrix, classification_report\n",
    "from sklearn.feature_selection import chi2, SelectKBest\n",
    "from pathlib import Path\n",
    "import matplotlib.pyplot as plt"
   ]
  },
  {
   "cell_type": "markdown",
   "metadata": {},
   "source": [
    "## Load CSV File"
   ]
  },
  {
   "cell_type": "markdown",
   "metadata": {},
   "source": [
    "load labeled data which is a CSV-file and show all different classes"
   ]
  },
  {
   "cell_type": "code",
   "execution_count": 2,
   "metadata": {},
   "outputs": [],
   "source": [
    "data_path = Path(r'.\\data.csv')\n",
    "df = pd.read_csv(data_path, sep=\";\")"
   ]
  },
  {
   "cell_type": "code",
   "execution_count": 3,
   "metadata": {},
   "outputs": [
    {
     "data": {
      "text/plain": [
       "array(['income', 'living', 'private', 'standardOfLiving', 'leisure',\n",
       "       'finance'], dtype=object)"
      ]
     },
     "execution_count": 3,
     "metadata": {},
     "output_type": "execute_result"
    }
   ],
   "source": [
    "df[\"label\"].unique()"
   ]
  },
  {
   "cell_type": "markdown",
   "metadata": {},
   "source": [
    "### Data Preperation/Cleaning"
   ]
  },
  {
   "cell_type": "markdown",
   "metadata": {},
   "source": [
    "Cast data types of input data to match bag of words features and cast characteristic \"Betrag\" to float"
   ]
  },
  {
   "cell_type": "code",
   "execution_count": 4,
   "metadata": {},
   "outputs": [
    {
     "data": {
      "text/plain": [
       "Unnamed: 0                             int64\n",
       "Auftragskonto                        float64\n",
       "Buchungstag                           object\n",
       "Valutadatum                           object\n",
       "Buchungstext                          object\n",
       "Verwendungszweck                      object\n",
       "Beguenstigter/Zahlungspflichtiger     object\n",
       "Kontonummer                           object\n",
       "BLZ                                   object\n",
       "Betrag                                object\n",
       "Waehrung                              object\n",
       "label                                 object\n",
       "dtype: object"
      ]
     },
     "metadata": {},
     "output_type": "display_data"
    }
   ],
   "source": [
    "display(df.dtypes)"
   ]
  },
  {
   "cell_type": "code",
   "execution_count": 5,
   "metadata": {},
   "outputs": [],
   "source": [
    "df[\"Auftragskonto\"] = df[\"Auftragskonto\"].astype(str)\n",
    "\n",
    "df[\"Betrag\"] = df[\"Betrag\"].astype(str)\n",
    "df[\"Betrag\"] = df[\"Betrag\"].apply(lambda x: x.replace(\",\", \".\"))\n",
    "df[\"Betrag\"] = df[\"Betrag\"].astype(float)\n",
    "\n",
    "df[\"Kontonummer\"] = df[\"Kontonummer\"].astype(str)\n",
    "df[\"BLZ\"] = df[\"BLZ\"].astype(str)"
   ]
  },
  {
   "cell_type": "markdown",
   "metadata": {},
   "source": [
    "## Feature Computation"
   ]
  },
  {
   "cell_type": "markdown",
   "metadata": {},
   "source": [
    "### Bag of Words Features\n",
    "\n",
    "Compute the bag of word features over the characteristic Auftragskonto, Buchungstag, Buchungstext, Verwendungszweck, Beguenstigter/Zahlungspflichtiger, Kontonummer and BLZ"
   ]
  },
  {
   "cell_type": "markdown",
   "metadata": {},
   "source": [
    "Extract the characteristic and drop the labels:"
   ]
  },
  {
   "cell_type": "code",
   "execution_count": 6,
   "metadata": {},
   "outputs": [],
   "source": [
    "y = df[\"label\"]\n",
    "X = df.drop(\"label\", axis=1)"
   ]
  },
  {
   "cell_type": "markdown",
   "metadata": {},
   "source": [
    "Compute bag of word features on a union of suiting characteristics:"
   ]
  },
  {
   "cell_type": "code",
   "execution_count": 7,
   "metadata": {},
   "outputs": [],
   "source": [
    "def create_characteristics_union(df):\n",
    "    return df[\"Auftragskonto\"] + \" , \" + df[\"Buchungstag\"] + \" , \" +df[\"Buchungstext\"]+ \" , \"+df[\"Verwendungszweck\"]+ \" , \"+df[\"Beguenstigter/Zahlungspflichtiger\"]+ \" , \"+df[\"Kontonummer\"]+ \" , \"+df[\"BLZ\"]  \n",
    "\n",
    "X = create_characteristics_union(X)\n",
    "vectorizer = CountVectorizer()\n",
    "X = vectorizer.fit_transform(X)"
   ]
  },
  {
   "cell_type": "markdown",
   "metadata": {},
   "source": [
    "Split the data randomly into 75% training set and 25% test set:"
   ]
  },
  {
   "cell_type": "code",
   "execution_count": 8,
   "metadata": {},
   "outputs": [],
   "source": [
    "X_train, X_test, y_train, y_test = train_test_split(X, y)"
   ]
  },
  {
   "cell_type": "markdown",
   "metadata": {},
   "source": [
    "CountVectorizer returns sparse matrizes, but GaussianNB can only process full numpy matrizes:"
   ]
  },
  {
   "cell_type": "code",
   "execution_count": 9,
   "metadata": {},
   "outputs": [],
   "source": [
    "X_train = X_train.toarray()\n",
    "X_test = X_test.toarray()"
   ]
  },
  {
   "cell_type": "markdown",
   "metadata": {},
   "source": [
    "Fit the model to the data and make predictions on the test set:"
   ]
  },
  {
   "cell_type": "code",
   "execution_count": 10,
   "metadata": {},
   "outputs": [],
   "source": [
    "clf = GaussianNB()\n",
    "clf.fit(X_train, y_train)\n",
    "predictions = clf.predict(X_test)"
   ]
  },
  {
   "cell_type": "markdown",
   "metadata": {},
   "source": [
    "## Evaluation"
   ]
  },
  {
   "cell_type": "markdown",
   "metadata": {},
   "source": [
    "Print the accuracy of the classifier on the test set:"
   ]
  },
  {
   "cell_type": "code",
   "execution_count": 11,
   "metadata": {},
   "outputs": [
    {
     "name": "stdout",
     "output_type": "stream",
     "text": [
      "0.9245283018867925\n"
     ]
    }
   ],
   "source": [
    "print(clf.score(X_test, y_test))"
   ]
  },
  {
   "cell_type": "markdown",
   "metadata": {},
   "source": [
    "do classification report, showing classical evaluation scores:"
   ]
  },
  {
   "cell_type": "code",
   "execution_count": 12,
   "metadata": {},
   "outputs": [
    {
     "name": "stdout",
     "output_type": "stream",
     "text": [
      "                  precision    recall  f1-score   support\n",
      "\n",
      "         finance       1.00      0.71      0.83         7\n",
      "          income       1.00      1.00      1.00         5\n",
      "         leisure       0.86      1.00      0.93        19\n",
      "          living       1.00      0.80      0.89         5\n",
      "         private       1.00      0.83      0.91         6\n",
      "standardOfLiving       0.92      1.00      0.96        11\n",
      "\n",
      "        accuracy                           0.92        53\n",
      "       macro avg       0.96      0.89      0.92        53\n",
      "    weighted avg       0.93      0.92      0.92        53\n",
      "\n"
     ]
    }
   ],
   "source": [
    "report = classification_report(y_test, predictions)\n",
    "print(report)"
   ]
  },
  {
   "cell_type": "markdown",
   "metadata": {},
   "source": [
    "Plot the confusion matrix of the test set:"
   ]
  },
  {
   "cell_type": "code",
   "execution_count": 13,
   "metadata": {},
   "outputs": [
    {
     "name": "stdout",
     "output_type": "stream",
     "text": [
      "[[ 5  0  2  0  0  0]\n",
      " [ 0  5  0  0  0  0]\n",
      " [ 0  0 19  0  0  0]\n",
      " [ 0  0  0  4  0  1]\n",
      " [ 0  0  1  0  5  0]\n",
      " [ 0  0  0  0  0 11]]\n"
     ]
    },
    {
     "data": {
      "image/png": "[encoded data removed]",
      "text/plain": [
       "<Figure size 432x288 with 2 Axes>"
      ]
     },
     "metadata": {
      "needs_background": "light"
     },
     "output_type": "display_data"
    }
   ],
   "source": [
    "disp = plot_confusion_matrix(clf, X_test, y_test,\n",
    "                                 display_labels=sorted(y_test.unique()),\n",
    "                                 cmap=plt.cm.Blues, \n",
    "                            xticks_rotation='vertical')\n",
    "disp.ax_.set_title(\"Confusion Matrix\")\n",
    "\n",
    "print(disp.confusion_matrix)"
   ]
  },
  {
   "cell_type": "markdown",
   "metadata": {},
   "source": [
    "Select the 15th words with the highest chi2 score and plot them:"
   ]
  },
  {
   "cell_type": "code",
   "execution_count": 14,
   "metadata": {},
   "outputs": [],
   "source": [
    "selection = SelectKBest(chi2, k=15).fit(X_train, y_train)\n",
    "mask = selection.get_support()\n",
    "params = selection.scores_\n",
    "feature_names = vectorizer.get_feature_names()\n",
    "\n",
    "features = list()\n",
    "for m, name, p in zip(mask, feature_names, params):\n",
    "    if m:\n",
    "        features.append((name, p))\n",
    "        \n",
    "features = sorted(features, key=lambda k:k[1])\n",
    "features = features[::-1]"
   ]
  },
  {
   "cell_type": "code",
   "execution_count": 15,
   "metadata": {},
   "outputs": [
    {
     "data": {
      "image/png": "[encoded data removed]",
      "text/plain": [
       "<Figure size 1008x576 with 1 Axes>"
      ]
     },
     "metadata": {
      "needs_background": "light"
     },
     "output_type": "display_data"
    }
   ],
   "source": [
    "objects = list(map(lambda x: x[0], features))\n",
    "y_pos = np.arange(len(objects))\n",
    "performance = list(map(lambda x: x[1], features))\n",
    "\n",
    "plt.figure(figsize=(14,8))\n",
    "plt.bar(y_pos, performance, align='center', alpha=0.5)\n",
    "plt.xticks(y_pos, objects, rotation=90)\n",
    "plt.ylabel('$\\chi^2$')\n",
    "plt.title('Features with highest $\\chi^2$ score')\n",
    "\n",
    "plt.show()"
   ]
  },
  {
   "cell_type": "markdown",
   "metadata": {},
   "source": [
    "Plot class priors of training set:"
   ]
  },
  {
   "cell_type": "code",
   "execution_count": 24,
   "metadata": {},
   "outputs": [
    {
     "name": "stdout",
     "output_type": "stream",
     "text": [
      "[0.16666667 0.07692308 0.29487179 0.13461538 0.09615385 0.23076923]\n"
     ]
    }
   ],
   "source": [
    "vectorizer = CountVectorizer()\n",
    "y_count = vectorizer.fit_transform(y_train)\n",
    "y_count = y_count.toarray()\n",
    "countLabels = np.sum(y_count, axis=0)\n",
    "priors = countLabels / countLabels.sum()\n",
    "names = vectorizer.get_feature_names()\n",
    "y_pos = np.arange(len(names))\n",
    "print(priors)"
   ]
  },
  {
   "cell_type": "code",
   "execution_count": 28,
   "metadata": {},
   "outputs": [
    {
     "data": {
      "image/png": "[encoded data removed]",
      "text/plain": [
       "<Figure size 504x288 with 1 Axes>"
      ]
     },
     "metadata": {
      "needs_background": "light"
     },
     "output_type": "display_data"
    }
   ],
   "source": [
    "plt.figure(figsize=(7,4))\n",
    "plt.bar(y_pos, priors, align='center', alpha=0.5)\n",
    "plt.xticks(y_pos, names, rotation=90)\n",
    "plt.ylabel('Prior')\n",
    "plt.title('Class priors of training set')\n",
    "\n",
    "plt.show()"
   ]
  }
 ],
 "metadata": {
  "kernelspec": {
   "display_name": "Python 3",
   "language": "python",
   "name": "python3"
  },
  "language_info": {
   "codemirror_mode": {
    "name": "ipython",
    "version": 3
   },
   "file_extension": ".py",
   "mimetype": "text/x-python",
   "name": "python",
   "nbconvert_exporter": "python",
   "pygments_lexer": "ipython3",
   "version": "3.8.3"
  }
 },
 "nbformat": 4,
 "nbformat_minor": 5
}
