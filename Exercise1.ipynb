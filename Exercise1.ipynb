{
 "cells": [
  {
   "cell_type": "markdown",
   "metadata": {},
   "source": [
    "# Exercise 1"
   ]
  },
  {
   "cell_type": "markdown",
   "metadata": {},
   "source": [
    "## Library Imports"
   ]
  },
  {
   "cell_type": "code",
   "execution_count": 29,
   "metadata": {},
   "outputs": [],
   "source": [
    "import numpy as np\n",
    "import pandas as pd\n",
    "from sklearn.feature_extraction.text import CountVectorizer\n",
    "from sklearn.naive_bayes import MultinomialNB\n",
    "from sklearn.model_selection import train_test_split\n",
    "from sklearn.metrics import plot_confusion_matrix, classification_report\n",
    "from sklearn.feature_selection import chi2, SelectKBest\n",
    "from pathlib import Path\n",
    "import matplotlib.pyplot as plt"
   ]
  },
  {
   "cell_type": "markdown",
   "metadata": {},
   "source": [
    "## Load CSV File"
   ]
  },
  {
   "cell_type": "code",
   "execution_count": 30,
   "metadata": {},
   "outputs": [],
   "source": [
    "data_path = Path(r'.\\data.csv')\n",
    "df = pd.read_csv(data_path, sep=\";\")"
   ]
  },
  {
   "cell_type": "code",
   "execution_count": 31,
   "metadata": {},
   "outputs": [
    {
     "data": {
      "text/plain": [
       "array(['income', 'living', 'private', 'standardOfLiving', 'leisure',\n",
       "       'finance'], dtype=object)"
      ]
     },
     "execution_count": 31,
     "metadata": {},
     "output_type": "execute_result"
    }
   ],
   "source": [
    "df[\"label\"].unique()"
   ]
  },
  {
   "cell_type": "markdown",
   "metadata": {},
   "source": [
    "### Data Preperation/Cleaning"
   ]
  },
  {
   "cell_type": "code",
   "execution_count": 32,
   "metadata": {},
   "outputs": [
    {
     "data": {
      "text/plain": [
       "Unnamed: 0                             int64\n",
       "Auftragskonto                        float64\n",
       "Buchungstag                           object\n",
       "Valutadatum                           object\n",
       "Buchungstext                          object\n",
       "Verwendungszweck                      object\n",
       "Beguenstigter/Zahlungspflichtiger     object\n",
       "Kontonummer                           object\n",
       "BLZ                                   object\n",
       "Betrag                                object\n",
       "Waehrung                              object\n",
       "label                                 object\n",
       "dtype: object"
      ]
     },
     "metadata": {},
     "output_type": "display_data"
    }
   ],
   "source": [
    "display(df.dtypes)"
   ]
  },
  {
   "cell_type": "code",
   "execution_count": 33,
   "metadata": {},
   "outputs": [],
   "source": [
    "df[\"Auftragskonto\"] = df[\"Auftragskonto\"].astype(str)\n",
    "\n",
    "df[\"Betrag\"] = df[\"Betrag\"].astype(str)\n",
    "df[\"Betrag\"] = df[\"Betrag\"].apply(lambda x: x.replace(\",\", \".\"))\n",
    "df[\"Betrag\"] = df[\"Betrag\"].astype(float)\n",
    "\n",
    "df[\"Kontonummer\"] = df[\"Kontonummer\"].astype(str)\n",
    "df[\"BLZ\"] = df[\"BLZ\"].astype(str)"
   ]
  },
  {
   "cell_type": "markdown",
   "metadata": {},
   "source": [
    "## Feature Computation"
   ]
  },
  {
   "cell_type": "markdown",
   "metadata": {},
   "source": [
    "1. Auftragskonto: {String}: Bag Of Words Integer Feature Count\n",
    "2. Buchungstag: {String}: Bag Of Words Integer Feature Count\n",
    "3. Valutadatum: {String}: copy of Buchungstag -> drop\n",
    "4. Buchungstext: {String}: Bag Of Words Integer Feature Count\n",
    "5. Verwendungszweck: {String}: Bag Of Words Integer Feature Count\n",
    "6. Beguenstigter/Zahlungspflichtiger: {String}: Bag Of Words Integer Feature Count\n",
    "7. Kontonummer:  Keep them as ID(string): Bag Of Words Integer Feature Count\n",
    "8. BLZ: Keep them as ID(String): Bag Of Words Integer Feature Count\n",
    "9. Betrag: {float}:\n",
    "10. Waehrung: {EUR}: always same value -> drop"
   ]
  },
  {
   "cell_type": "markdown",
   "metadata": {},
   "source": [
    "### Bag of Words Features"
   ]
  },
  {
   "cell_type": "code",
   "execution_count": 34,
   "metadata": {},
   "outputs": [],
   "source": [
    "y = df[\"label\"]\n",
    "X = df.drop(\"label\", axis=1)"
   ]
  },
  {
   "cell_type": "code",
   "execution_count": 35,
   "metadata": {},
   "outputs": [],
   "source": [
    "def concat_BOW_features(df, use_all, use_which=None):\n",
    "    if use_which is not None and use_all is False:\n",
    "        return X[use_which]\n",
    " \n",
    "    return df[\"Auftragskonto\"] + \" , \" + df[\"Buchungstag\"] + \" , \" +df[\"Buchungstext\"]+ \" , \"+df[\"Verwendungszweck\"]+ \" , \"+df[\"Beguenstigter/Zahlungspflichtiger\"]+ \" , \"+df[\"Kontonummer\"]+ \" , \"+df[\"BLZ\"]  \n",
    "\n",
    "X = concat_BOW_features(X, True)\n",
    "vectorizer = CountVectorizer()\n",
    "X = vectorizer.fit_transform(X)"
   ]
  },
  {
   "cell_type": "code",
   "execution_count": 36,
   "metadata": {},
   "outputs": [],
   "source": [
    "X_train, X_test, y_train, y_test = train_test_split(X, y)"
   ]
  },
  {
   "cell_type": "code",
   "execution_count": 37,
   "metadata": {},
   "outputs": [],
   "source": [
    "clf = MultinomialNB()\n",
    "clf.fit(X_train, y_train)\n",
    "predictions = clf.predict(X_test)"
   ]
  },
  {
   "cell_type": "code",
   "execution_count": 38,
   "metadata": {},
   "outputs": [
    {
     "name": "stdout",
     "output_type": "stream",
     "text": [
      "0.9245283018867925\n"
     ]
    }
   ],
   "source": [
    "print(clf.score(X_test, y_test))"
   ]
  },
  {
   "cell_type": "code",
   "execution_count": 39,
   "metadata": {},
   "outputs": [
    {
     "name": "stdout",
     "output_type": "stream",
     "text": [
      "                  precision    recall  f1-score   support\n",
      "\n",
      "         finance       0.90      1.00      0.95         9\n",
      "          income       1.00      1.00      1.00         7\n",
      "         leisure       0.90      1.00      0.95        19\n",
      "          living       1.00      0.80      0.89         5\n",
      "         private       1.00      0.67      0.80         3\n",
      "standardOfLiving       0.89      0.80      0.84        10\n",
      "\n",
      "        accuracy                           0.92        53\n",
      "       macro avg       0.95      0.88      0.90        53\n",
      "    weighted avg       0.93      0.92      0.92        53\n",
      "\n"
     ]
    }
   ],
   "source": [
    "report = classification_report(y_test, predictions)\n",
    "print(report)"
   ]
  },
  {
   "cell_type": "code",
   "execution_count": 40,
   "metadata": {},
   "outputs": [
    {
     "name": "stdout",
     "output_type": "stream",
     "text": [
      "[[ 9  0  0  0  0  0]\n",
      " [ 0  7  0  0  0  0]\n",
      " [ 0  0 19  0  0  0]\n",
      " [ 0  0  0  4  0  1]\n",
      " [ 1  0  0  0  2  0]\n",
      " [ 0  0  2  0  0  8]]\n"
     ]
    },
    {
     "data": {
      "image/png": "[encoded data removed]",
      "text/plain": [
       "<Figure size 432x288 with 2 Axes>"
      ]
     },
     "metadata": {
      "needs_background": "light"
     },
     "output_type": "display_data"
    }
   ],
   "source": [
    "disp = plot_confusion_matrix(clf, X_test, y_test,\n",
    "                                 display_labels=sorted(y_test.unique()),\n",
    "                                 cmap=plt.cm.Blues, \n",
    "                            xticks_rotation='vertical')\n",
    "disp.ax_.set_title(\"Confusion Matrix\")\n",
    "\n",
    "print(disp.confusion_matrix)"
   ]
  },
  {
   "cell_type": "code",
   "execution_count": 41,
   "metadata": {},
   "outputs": [],
   "source": [
    "selection = SelectKBest(chi2, k=15).fit(X_train, y_train)\n",
    "mask = selection.get_support()\n",
    "params = selection.scores_\n",
    "feature_names = vectorizer.get_feature_names()\n",
    "\n",
    "features = list()\n",
    "for m, name, p in zip(mask, feature_names, params):\n",
    "    if m:\n",
    "        features.append((name, p))\n",
    "        \n",
    "features = sorted(features, key=lambda k:k[1])\n",
    "features = features[::-1]"
   ]
  },
  {
   "cell_type": "code",
   "execution_count": 42,
   "metadata": {},
   "outputs": [
    {
     "data": {
      "image/png": "[encoded data removed]",
      "text/plain": [
       "<Figure size 1008x576 with 1 Axes>"
      ]
     },
     "metadata": {
      "needs_background": "light"
     },
     "output_type": "display_data"
    }
   ],
   "source": [
    "objects = list(map(lambda x: x[0], features))\n",
    "y_pos = np.arange(len(objects))\n",
    "performance = list(map(lambda x: x[1], features))\n",
    "\n",
    "plt.figure(figsize=(14,8))\n",
    "plt.bar(y_pos, performance, align='center', alpha=0.5)\n",
    "plt.xticks(y_pos, objects, rotation=90)\n",
    "plt.ylabel('$\\chi^2$')\n",
    "plt.title('Features with highest $\\chi^2$ score')\n",
    "\n",
    "plt.show()"
   ]
  }
 ],
 "metadata": {
  "kernelspec": {
   "display_name": "Python 3",
   "language": "python",
   "name": "python3"
  },
  "language_info": {
   "codemirror_mode": {
    "name": "ipython",
    "version": 3
   },
   "file_extension": ".py",
   "mimetype": "text/x-python",
   "name": "python",
   "nbconvert_exporter": "python",
   "pygments_lexer": "ipython3",
   "version": "3.8.3"
  }
 },
 "nbformat": 4,
 "nbformat_minor": 5
}
