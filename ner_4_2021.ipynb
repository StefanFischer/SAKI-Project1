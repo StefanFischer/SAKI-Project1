{
  "nbformat": 4,
  "nbformat_minor": 0,
  "metadata": {
    "accelerator": "GPU",
    "colab": {
      "name": "ner_4_2021.ipynb",
      "provenance": [],
      "collapsed_sections": [],
      "toc_visible": true,
      "include_colab_link": true
    },
    "kernelspec": {
      "display_name": "Python 3",
      "language": "python",
      "name": "python3"
    },
    "language_info": {
      "codemirror_mode": {
        "name": "ipython",
        "version": 3
      },
      "file_extension": ".py",
      "mimetype": "text/x-python",
      "name": "python",
      "nbconvert_exporter": "python",
      "pygments_lexer": "ipython3",
      "version": "3.8.5"
    }
  },
  "cells": [
    {
      "cell_type": "markdown",
      "metadata": {
        "id": "view-in-github",
        "colab_type": "text"
      },
      "source": [
        "<a href=\"https://colab.research.google.com/github/StefanFischer/SAKI-Project1/blob/main/ner_4_2021.ipynb\" target=\"_parent\"><img src=\"https://colab.research.google.com/assets/colab-badge.svg\" alt=\"Open In Colab\"/></a>"
      ]
    },
    {
      "cell_type": "code",
      "metadata": {
        "colab": {
          "base_uri": "https://localhost:8080/"
        },
        "id": "g2CJ4VzeNG4T",
        "outputId": "b407be2a-e4b9-4224-fad6-7d589191a4cc"
      },
      "source": [
        "from google.colab import drive\n",
        "drive.mount('/content/gdrive')"
      ],
      "execution_count": null,
      "outputs": [
        {
          "output_type": "stream",
          "text": [
            "Mounted at /content/gdrive\n"
          ],
          "name": "stdout"
        }
      ]
    },
    {
      "cell_type": "code",
      "metadata": {
        "id": "FnghTizPNWzw"
      },
      "source": [
        "import os"
      ],
      "execution_count": null,
      "outputs": []
    },
    {
      "cell_type": "code",
      "metadata": {
        "id": "UZkVX1EnNadp"
      },
      "source": [
        "os.chdir( \"/content/gdrive/MyDrive/flair\" ) "
      ],
      "execution_count": null,
      "outputs": []
    },
    {
      "cell_type": "code",
      "metadata": {
        "colab": {
          "base_uri": "https://localhost:8080/"
        },
        "id": "FowyHS5ONdSJ",
        "outputId": "1661c5cc-d426-472a-f7ee-fe753a87245a"
      },
      "source": [
        "pip install flair"
      ],
      "execution_count": null,
      "outputs": [
        {
          "output_type": "stream",
          "text": [
            "Collecting flair\n",
            "\u001b[?25l  Downloading https://files.pythonhosted.org/packages/f0/3a/1b46a0220d6176b22bcb9336619d1731301bc2c75fa926a9ef953e6e4d58/flair-0.8.0.post1-py3-none-any.whl (284kB)\n",
            "\u001b[K     |████████████████████████████████| 286kB 3.0MB/s \n",
            "\u001b[?25hCollecting transformers>=4.0.0\n",
            "\u001b[?25l  Downloading https://files.pythonhosted.org/packages/d5/43/cfe4ee779bbd6a678ac6a97c5a5cdeb03c35f9eaebbb9720b036680f9a2d/transformers-4.6.1-py3-none-any.whl (2.2MB)\n",
            "\u001b[K     |████████████████████████████████| 2.3MB 15.4MB/s \n",
            "\u001b[?25hCollecting mpld3==0.3\n",
            "\u001b[?25l  Downloading https://files.pythonhosted.org/packages/91/95/a52d3a83d0a29ba0d6898f6727e9858fe7a43f6c2ce81a5fe7e05f0f4912/mpld3-0.3.tar.gz (788kB)\n",
            "\u001b[K     |████████████████████████████████| 798kB 21.8MB/s \n",
            "\u001b[?25hCollecting segtok>=1.5.7\n",
            "  Downloading https://files.pythonhosted.org/packages/41/08/582dab5f4b1d5ca23bc6927b4bb977c8ff7f3a87a3b98844ef833e2f5623/segtok-1.5.10.tar.gz\n",
            "Requirement already satisfied: scikit-learn>=0.21.3 in /usr/local/lib/python3.7/dist-packages (from flair) (0.22.2.post1)\n",
            "Requirement already satisfied: lxml in /usr/local/lib/python3.7/dist-packages (from flair) (4.2.6)\n",
            "Requirement already satisfied: numpy<1.20.0 in /usr/local/lib/python3.7/dist-packages (from flair) (1.19.5)\n",
            "Requirement already satisfied: regex in /usr/local/lib/python3.7/dist-packages (from flair) (2019.12.20)\n",
            "Collecting bpemb>=0.3.2\n",
            "  Downloading https://files.pythonhosted.org/packages/f2/6f/9191b85109772636a8f8accb122900c34db26c091d2793218aa94954524c/bpemb-0.3.3-py3-none-any.whl\n",
            "Requirement already satisfied: tqdm>=4.26.0 in /usr/local/lib/python3.7/dist-packages (from flair) (4.41.1)\n",
            "Requirement already satisfied: python-dateutil>=2.6.1 in /usr/local/lib/python3.7/dist-packages (from flair) (2.8.1)\n",
            "Collecting ftfy\n",
            "\u001b[?25l  Downloading https://files.pythonhosted.org/packages/af/da/d215a091986e5f01b80f5145cff6f22e2dc57c6b048aab2e882a07018473/ftfy-6.0.3.tar.gz (64kB)\n",
            "\u001b[K     |████████████████████████████████| 71kB 7.4MB/s \n",
            "\u001b[?25hCollecting torch<=1.7.1,>=1.5.0\n",
            "\u001b[?25l  Downloading https://files.pythonhosted.org/packages/90/5d/095ddddc91c8a769a68c791c019c5793f9c4456a688ddd235d6670924ecb/torch-1.7.1-cp37-cp37m-manylinux1_x86_64.whl (776.8MB)\n",
            "\u001b[K     |████████████████████████████████| 776.8MB 24kB/s \n",
            "\u001b[?25hCollecting langdetect\n",
            "\u001b[?25l  Downloading https://files.pythonhosted.org/packages/0e/72/a3add0e4eec4eb9e2569554f7c70f4a3c27712f40e3284d483e88094cc0e/langdetect-1.0.9.tar.gz (981kB)\n",
            "\u001b[K     |████████████████████████████████| 983kB 32.1MB/s \n",
            "\u001b[?25hRequirement already satisfied: gensim<=3.8.3,>=3.4.0 in /usr/local/lib/python3.7/dist-packages (from flair) (3.6.0)\n",
            "Requirement already satisfied: tabulate in /usr/local/lib/python3.7/dist-packages (from flair) (0.8.9)\n",
            "Collecting konoha<5.0.0,>=4.0.0\n",
            "  Downloading https://files.pythonhosted.org/packages/71/70/48a0bd55f79c328504fe6fe7ae8ff651f77a2aadbb1911701385d9bb5ca3/konoha-4.6.5-py3-none-any.whl\n",
            "Requirement already satisfied: hyperopt>=0.1.1 in /usr/local/lib/python3.7/dist-packages (from flair) (0.1.2)\n",
            "Collecting janome\n",
            "\u001b[?25l  Downloading https://files.pythonhosted.org/packages/a8/63/98858cbead27df7536c7e300c169da0999e9704d02220dc6700b804eeff0/Janome-0.4.1-py2.py3-none-any.whl (19.7MB)\n",
            "\u001b[K     |████████████████████████████████| 19.7MB 1.6MB/s \n",
            "\u001b[?25hCollecting sentencepiece==0.1.95\n",
            "\u001b[?25l  Downloading https://files.pythonhosted.org/packages/f5/99/e0808cb947ba10f575839c43e8fafc9cc44e4a7a2c8f79c60db48220a577/sentencepiece-0.1.95-cp37-cp37m-manylinux2014_x86_64.whl (1.2MB)\n",
            "\u001b[K     |████████████████████████████████| 1.2MB 31.5MB/s \n",
            "\u001b[?25hCollecting sqlitedict>=1.6.0\n",
            "  Downloading https://files.pythonhosted.org/packages/5c/2d/b1d99e9ad157dd7de9cd0d36a8a5876b13b55e4b75f7498bc96035fb4e96/sqlitedict-1.7.0.tar.gz\n",
            "Collecting huggingface-hub\n",
            "  Downloading https://files.pythonhosted.org/packages/32/a1/7c5261396da23ec364e296a4fb8a1cd6a5a2ff457215c6447038f18c0309/huggingface_hub-0.0.9-py3-none-any.whl\n",
            "Requirement already satisfied: matplotlib>=2.2.3 in /usr/local/lib/python3.7/dist-packages (from flair) (3.2.2)\n",
            "Collecting gdown==3.12.2\n",
            "  Downloading https://files.pythonhosted.org/packages/50/21/92c3cfe56f5c0647145c4b0083d0733dd4890a057eb100a8eeddf949ffe9/gdown-3.12.2.tar.gz\n",
            "  Installing build dependencies ... \u001b[?25l\u001b[?25hdone\n",
            "  Getting requirements to build wheel ... \u001b[?25l\u001b[?25hdone\n",
            "    Preparing wheel metadata ... \u001b[?25l\u001b[?25hdone\n",
            "Collecting deprecated>=1.2.4\n",
            "  Downloading https://files.pythonhosted.org/packages/fb/73/994edfcba74443146c84b91921fcc269374354118d4f452fb0c54c1cbb12/Deprecated-1.2.12-py2.py3-none-any.whl\n",
            "Requirement already satisfied: importlib-metadata; python_version < \"3.8\" in /usr/local/lib/python3.7/dist-packages (from transformers>=4.0.0->flair) (4.0.1)\n",
            "Requirement already satisfied: requests in /usr/local/lib/python3.7/dist-packages (from transformers>=4.0.0->flair) (2.23.0)\n",
            "Collecting tokenizers<0.11,>=0.10.1\n",
            "\u001b[?25l  Downloading https://files.pythonhosted.org/packages/d4/e2/df3543e8ffdab68f5acc73f613de9c2b155ac47f162e725dcac87c521c11/tokenizers-0.10.3-cp37-cp37m-manylinux_2_5_x86_64.manylinux1_x86_64.manylinux_2_12_x86_64.manylinux2010_x86_64.whl (3.3MB)\n",
            "\u001b[K     |████████████████████████████████| 3.3MB 28.0MB/s \n",
            "\u001b[?25hCollecting sacremoses\n",
            "\u001b[?25l  Downloading https://files.pythonhosted.org/packages/75/ee/67241dc87f266093c533a2d4d3d69438e57d7a90abb216fa076e7d475d4a/sacremoses-0.0.45-py3-none-any.whl (895kB)\n",
            "\u001b[K     |████████████████████████████████| 901kB 32.4MB/s \n",
            "\u001b[?25hRequirement already satisfied: packaging in /usr/local/lib/python3.7/dist-packages (from transformers>=4.0.0->flair) (20.9)\n",
            "Requirement already satisfied: filelock in /usr/local/lib/python3.7/dist-packages (from transformers>=4.0.0->flair) (3.0.12)\n",
            "Requirement already satisfied: joblib>=0.11 in /usr/local/lib/python3.7/dist-packages (from scikit-learn>=0.21.3->flair) (1.0.1)\n",
            "Requirement already satisfied: scipy>=0.17.0 in /usr/local/lib/python3.7/dist-packages (from scikit-learn>=0.21.3->flair) (1.4.1)\n",
            "Requirement already satisfied: six>=1.5 in /usr/local/lib/python3.7/dist-packages (from python-dateutil>=2.6.1->flair) (1.15.0)\n",
            "Requirement already satisfied: wcwidth in /usr/local/lib/python3.7/dist-packages (from ftfy->flair) (0.2.5)\n",
            "Requirement already satisfied: typing-extensions in /usr/local/lib/python3.7/dist-packages (from torch<=1.7.1,>=1.5.0->flair) (3.7.4.3)\n",
            "Requirement already satisfied: smart-open>=1.2.1 in /usr/local/lib/python3.7/dist-packages (from gensim<=3.8.3,>=3.4.0->flair) (5.0.0)\n",
            "Collecting overrides<4.0.0,>=3.0.0\n",
            "  Downloading https://files.pythonhosted.org/packages/ff/b1/10f69c00947518e6676bbd43e739733048de64b8dd998e9c2d5a71f44c5d/overrides-3.1.0.tar.gz\n",
            "Requirement already satisfied: networkx in /usr/local/lib/python3.7/dist-packages (from hyperopt>=0.1.1->flair) (2.5.1)\n",
            "Requirement already satisfied: pymongo in /usr/local/lib/python3.7/dist-packages (from hyperopt>=0.1.1->flair) (3.11.4)\n",
            "Requirement already satisfied: future in /usr/local/lib/python3.7/dist-packages (from hyperopt>=0.1.1->flair) (0.16.0)\n",
            "Requirement already satisfied: pyparsing!=2.0.4,!=2.1.2,!=2.1.6,>=2.0.1 in /usr/local/lib/python3.7/dist-packages (from matplotlib>=2.2.3->flair) (2.4.7)\n",
            "Requirement already satisfied: cycler>=0.10 in /usr/local/lib/python3.7/dist-packages (from matplotlib>=2.2.3->flair) (0.10.0)\n",
            "Requirement already satisfied: kiwisolver>=1.0.1 in /usr/local/lib/python3.7/dist-packages (from matplotlib>=2.2.3->flair) (1.3.1)\n",
            "Requirement already satisfied: wrapt<2,>=1.10 in /usr/local/lib/python3.7/dist-packages (from deprecated>=1.2.4->flair) (1.12.1)\n",
            "Requirement already satisfied: zipp>=0.5 in /usr/local/lib/python3.7/dist-packages (from importlib-metadata; python_version < \"3.8\"->transformers>=4.0.0->flair) (3.4.1)\n",
            "Requirement already satisfied: certifi>=2017.4.17 in /usr/local/lib/python3.7/dist-packages (from requests->transformers>=4.0.0->flair) (2020.12.5)\n",
            "Requirement already satisfied: urllib3!=1.25.0,!=1.25.1,<1.26,>=1.21.1 in /usr/local/lib/python3.7/dist-packages (from requests->transformers>=4.0.0->flair) (1.24.3)\n",
            "Requirement already satisfied: chardet<4,>=3.0.2 in /usr/local/lib/python3.7/dist-packages (from requests->transformers>=4.0.0->flair) (3.0.4)\n",
            "Requirement already satisfied: idna<3,>=2.5 in /usr/local/lib/python3.7/dist-packages (from requests->transformers>=4.0.0->flair) (2.10)\n",
            "Requirement already satisfied: click in /usr/local/lib/python3.7/dist-packages (from sacremoses->transformers>=4.0.0->flair) (7.1.2)\n",
            "Requirement already satisfied: decorator<5,>=4.3 in /usr/local/lib/python3.7/dist-packages (from networkx->hyperopt>=0.1.1->flair) (4.4.2)\n",
            "Building wheels for collected packages: gdown\n",
            "  Building wheel for gdown (PEP 517) ... \u001b[?25l\u001b[?25hdone\n",
            "  Created wheel for gdown: filename=gdown-3.12.2-cp37-none-any.whl size=9693 sha256=b393e5745fbc0a3d1ffc7a7ad5a1bb40be30c4ac15d6c47449e5f351b3fee52d\n",
            "  Stored in directory: /root/.cache/pip/wheels/81/d0/d7/d9983facc6f2775411803e0e2d30ebf98efbf2fc6e57701e09\n",
            "Successfully built gdown\n",
            "Building wheels for collected packages: mpld3, segtok, ftfy, langdetect, sqlitedict, overrides\n",
            "  Building wheel for mpld3 (setup.py) ... \u001b[?25l\u001b[?25hdone\n",
            "  Created wheel for mpld3: filename=mpld3-0.3-cp37-none-any.whl size=116679 sha256=a590bc44d4957baa1160ff83c6b9dc311f2e6897b910aa8d61ad1a8abaa1180f\n",
            "  Stored in directory: /root/.cache/pip/wheels/c0/47/fb/8a64f89aecfe0059830479308ad42d62e898a3e3cefdf6ba28\n",
            "  Building wheel for segtok (setup.py) ... \u001b[?25l\u001b[?25hdone\n",
            "  Created wheel for segtok: filename=segtok-1.5.10-cp37-none-any.whl size=25019 sha256=3e6b934cb4750c55cdbd7bd33122c74b9d528df53c868229459cb6ba60f28200\n",
            "  Stored in directory: /root/.cache/pip/wheels/b4/39/f6/9ca1c5cabde964d728023b5751c3a206a5c8cc40252321fb6b\n",
            "  Building wheel for ftfy (setup.py) ... \u001b[?25l\u001b[?25hdone\n",
            "  Created wheel for ftfy: filename=ftfy-6.0.3-cp37-none-any.whl size=41916 sha256=140a029174594761eb01bdded94ecc651dbed3b939dc5d3d0ffc0f5a08f7b1ef\n",
            "  Stored in directory: /root/.cache/pip/wheels/99/2c/e6/109c8a28fef7a443f67ba58df21fe1d0067ac3322e75e6b0b7\n",
            "  Building wheel for langdetect (setup.py) ... \u001b[?25l\u001b[?25hdone\n",
            "  Created wheel for langdetect: filename=langdetect-1.0.9-cp37-none-any.whl size=993223 sha256=78132db652588fc8e0ac05124a2a1bc6a96fa2fed2e6d253f1405b370c8c0e61\n",
            "  Stored in directory: /root/.cache/pip/wheels/7e/18/13/038c34057808931c7ddc6c92d3aa015cf1a498df5a70268996\n",
            "  Building wheel for sqlitedict (setup.py) ... \u001b[?25l\u001b[?25hdone\n",
            "  Created wheel for sqlitedict: filename=sqlitedict-1.7.0-cp37-none-any.whl size=14376 sha256=d9ece88d7055ed9ce639cba6b42e0ada94fcdd3ab6d5b08dcfaed37ccd1c2ec6\n",
            "  Stored in directory: /root/.cache/pip/wheels/cf/c6/4f/2c64a43f041415eb8b8740bd80e15e92f0d46c5e464d8e4b9b\n",
            "  Building wheel for overrides (setup.py) ... \u001b[?25l\u001b[?25hdone\n",
            "  Created wheel for overrides: filename=overrides-3.1.0-cp37-none-any.whl size=10174 sha256=4a78540bdfdcba73d271abf783395a18dcea8daa135c10d474e85c0639038dec\n",
            "  Stored in directory: /root/.cache/pip/wheels/5c/24/13/6ef8600e6f147c95e595f1289a86a3cc82ed65df57582c65a9\n",
            "Successfully built mpld3 segtok ftfy langdetect sqlitedict overrides\n",
            "\u001b[31mERROR: torchvision 0.9.1+cu101 has requirement torch==1.8.1, but you'll have torch 1.7.1 which is incompatible.\u001b[0m\n",
            "\u001b[31mERROR: torchtext 0.9.1 has requirement torch==1.8.1, but you'll have torch 1.7.1 which is incompatible.\u001b[0m\n",
            "\u001b[31mERROR: transformers 4.6.1 has requirement huggingface-hub==0.0.8, but you'll have huggingface-hub 0.0.9 which is incompatible.\u001b[0m\n",
            "\u001b[31mERROR: konoha 4.6.5 has requirement importlib-metadata<4.0.0,>=3.7.0, but you'll have importlib-metadata 4.0.1 which is incompatible.\u001b[0m\n",
            "\u001b[31mERROR: konoha 4.6.5 has requirement requests<3.0.0,>=2.25.1, but you'll have requests 2.23.0 which is incompatible.\u001b[0m\n",
            "Installing collected packages: tokenizers, huggingface-hub, sacremoses, transformers, mpld3, segtok, sentencepiece, bpemb, ftfy, torch, langdetect, overrides, konoha, janome, sqlitedict, gdown, deprecated, flair\n",
            "  Found existing installation: torch 1.8.1+cu101\n",
            "    Uninstalling torch-1.8.1+cu101:\n",
            "      Successfully uninstalled torch-1.8.1+cu101\n",
            "  Found existing installation: gdown 3.6.4\n",
            "    Uninstalling gdown-3.6.4:\n",
            "      Successfully uninstalled gdown-3.6.4\n",
            "Successfully installed bpemb-0.3.3 deprecated-1.2.12 flair-0.8.0.post1 ftfy-6.0.3 gdown-3.12.2 huggingface-hub-0.0.9 janome-0.4.1 konoha-4.6.5 langdetect-1.0.9 mpld3-0.3 overrides-3.1.0 sacremoses-0.0.45 segtok-1.5.10 sentencepiece-0.1.95 sqlitedict-1.7.0 tokenizers-0.10.3 torch-1.7.1 transformers-4.6.1\n"
          ],
          "name": "stdout"
        }
      ]
    },
    {
      "cell_type": "code",
      "metadata": {
        "colab": {
          "base_uri": "https://localhost:8080/"
        },
        "id": "lDeL2lBkOKXH",
        "outputId": "1d8bfec1-503e-43c9-f3a9-8a7fc2bb737a"
      },
      "source": [
        "from flair.data import Corpus\n",
        "from flair.data_fetcher import NLPTaskDataFetcher\n",
        "\n",
        "downsample = 1.0 # 1.0 is full data, try a much smaller number like 0.01 to test run the code\n",
        "data_folder = os.getcwd()\n",
        "columns = {0: 'text', 1: 'ner'}\n",
        "\n",
        "# 1. get the corpus\n",
        "corpus: Corpus = NLPTaskDataFetcher.load_column_corpus(data_folder, columns,\n",
        "                                                             train_file='training_data.csv',\n",
        "                                                             test_file='test_data.csv',\n",
        "                                                           dev_file=None).downsample(downsample)\n",
        "print(corpus)"
      ],
      "execution_count": null,
      "outputs": [
        {
          "output_type": "stream",
          "text": [
            "2021-05-26 12:39:28,327 Reading data from /content/gdrive/My Drive/flair\n",
            "2021-05-26 12:39:28,332 Train: /content/gdrive/My Drive/flair/training_data.csv\n",
            "2021-05-26 12:39:28,334 Dev: None\n",
            "2021-05-26 12:39:28,340 Test: /content/gdrive/My Drive/flair/test_data.csv\n"
          ],
          "name": "stdout"
        },
        {
          "output_type": "stream",
          "text": [
            "/usr/local/lib/python3.7/dist-packages/ipykernel_launcher.py:12: DeprecationWarning: Call to deprecated function (or staticmethod) load_column_corpus. (Use 'flair.datasets' instead.) -- Deprecated since version 0.4.1.\n",
            "  if sys.path[0] == '':\n"
          ],
          "name": "stderr"
        },
        {
          "output_type": "stream",
          "text": [
            "Corpus: 6428 train + 714 dev + 3167 test sentences\n"
          ],
          "name": "stdout"
        }
      ]
    },
    {
      "cell_type": "markdown",
      "metadata": {
        "id": "0dCeZKEpOez2"
      },
      "source": [
        "Now, we have loaded __flair__ and our data.<br>\n",
        "Next, we train models for __NER__.<br>\n",
        "Inform yourselves on [Embeddings](https://github.com/flairNLP/flair/blob/master/resources/docs/TUTORIAL_3_WORD_EMBEDDING.md) in Flair.<br>\n",
        "__Question 1__: What happens when we stack embeddings?<br> The embeddings get concatenated to one embedding vector\n",
        "\n",
        "How does this influence computational running time and accuracy?<br> Those stacked embeddings give better predictions, but also need longer running time\n",
        "What does the __hidden_size__ of the __SequenceTagger__ reference?<br>\n",
        "What happens when you increase/decrease the __hidden_size__?"
      ]
    },
    {
      "cell_type": "code",
      "metadata": {
        "id": "4aIppbtDOopW"
      },
      "source": [
        "# 4. initialize embeddings. Experiment with different embedding types to see what gets the best results\n",
        "from flair.embeddings import TokenEmbeddings, WordEmbeddings, StackedEmbeddings,FlairEmbeddings, CharacterEmbeddings\n",
        "\n",
        "embedding_types = [\n",
        "    #WordEmbeddings('glove'),\n",
        "    # comment in this line to use character embeddings\n",
        "    CharacterEmbeddings(),\n",
        "\n",
        "    # comment in these lines to use flair embeddings (needs a LONG time to train :-)\n",
        "    FlairEmbeddings('news-forward'),\n",
        "    FlairEmbeddings('news-backward'),\n",
        "]\n",
        "\n",
        "embeddings: StackedEmbeddings = StackedEmbeddings(embeddings=embedding_types)\n",
        "\n",
        "# 5. initialize sequence tagger\n",
        "from flair.models import SequenceTagger\n",
        "\n",
        "tag_dictionary = corpus.make_tag_dictionary(tag_type='ner')\n",
        "\n",
        "tagger: SequenceTagger = SequenceTagger(hidden_size=256,\n",
        "                                        embeddings=embeddings,\n",
        "                                        tag_dictionary=tag_dictionary,\n",
        "                                        tag_type='ner',\n",
        "                                        use_crf=True)"
      ],
      "execution_count": null,
      "outputs": []
    },
    {
      "cell_type": "markdown",
      "metadata": {
        "id": "HXvWxWB3PjhP"
      },
      "source": [
        "Start Training"
      ]
    },
    {
      "cell_type": "code",
      "metadata": {
        "id": "2H7-e-_5Peww",
        "colab": {
          "base_uri": "https://localhost:8080/"
        },
        "outputId": "bfedcdb7-3ca3-454c-8c02-4c80178303ff"
      },
      "source": [
        "# 6. initialize trainer\n",
        "from flair.trainers import ModelTrainer\n",
        "\n",
        "trainer: ModelTrainer = ModelTrainer(tagger, corpus)\n",
        "\n",
        "model_name = 'flair_glove'\n",
        "\n",
        "trainer.train(model_name,\n",
        "              learning_rate=0.001,\n",
        "              mini_batch_size=50,\n",
        "              #anneal_factor=0.5,\n",
        "              #patience=5,\n",
        "              #anneal_with_restarts=True,\n",
        "              max_epochs=20)"
      ],
      "execution_count": null,
      "outputs": [
        {
          "output_type": "stream",
          "text": [
            "2021-05-26 15:24:54,259 ----------------------------------------------------------------------------------------------------\n",
            "2021-05-26 15:24:54,263 Model: \"SequenceTagger(\n",
            "  (embeddings): StackedEmbeddings(\n",
            "    (list_embedding_0): CharacterEmbeddings(\n",
            "      (char_embedding): Embedding(275, 25)\n",
            "      (char_rnn): LSTM(25, 25, bidirectional=True)\n",
            "    )\n",
            "    (list_embedding_1): FlairEmbeddings(\n",
            "      (lm): LanguageModel(\n",
            "        (drop): Dropout(p=0.05, inplace=False)\n",
            "        (encoder): Embedding(300, 100)\n",
            "        (rnn): LSTM(100, 2048)\n",
            "        (decoder): Linear(in_features=2048, out_features=300, bias=True)\n",
            "      )\n",
            "    )\n",
            "    (list_embedding_2): FlairEmbeddings(\n",
            "      (lm): LanguageModel(\n",
            "        (drop): Dropout(p=0.05, inplace=False)\n",
            "        (encoder): Embedding(300, 100)\n",
            "        (rnn): LSTM(100, 2048)\n",
            "        (decoder): Linear(in_features=2048, out_features=300, bias=True)\n",
            "      )\n",
            "    )\n",
            "  )\n",
            "  (word_dropout): WordDropout(p=0.05)\n",
            "  (locked_dropout): LockedDropout(p=0.5)\n",
            "  (embedding2nn): Linear(in_features=4146, out_features=4146, bias=True)\n",
            "  (rnn): LSTM(4146, 256, batch_first=True, bidirectional=True)\n",
            "  (linear): Linear(in_features=512, out_features=16, bias=True)\n",
            "  (beta): 1.0\n",
            "  (weights): None\n",
            "  (weight_tensor) None\n",
            ")\"\n",
            "2021-05-26 15:24:54,268 ----------------------------------------------------------------------------------------------------\n",
            "2021-05-26 15:24:54,273 Corpus: \"Corpus: 6428 train + 714 dev + 3167 test sentences\"\n",
            "2021-05-26 15:24:54,278 ----------------------------------------------------------------------------------------------------\n",
            "2021-05-26 15:24:54,284 Parameters:\n",
            "2021-05-26 15:24:54,288  - learning_rate: \"0.001\"\n",
            "2021-05-26 15:24:54,295  - mini_batch_size: \"50\"\n",
            "2021-05-26 15:24:54,301  - patience: \"3\"\n",
            "2021-05-26 15:24:54,305  - anneal_factor: \"0.5\"\n",
            "2021-05-26 15:24:54,311  - max_epochs: \"20\"\n",
            "2021-05-26 15:24:54,315  - shuffle: \"True\"\n",
            "2021-05-26 15:24:54,320  - train_with_dev: \"False\"\n",
            "2021-05-26 15:24:54,324  - batch_growth_annealing: \"False\"\n",
            "2021-05-26 15:24:54,328 ----------------------------------------------------------------------------------------------------\n",
            "2021-05-26 15:24:54,332 Model training base path: \"flair_glove\"\n",
            "2021-05-26 15:24:54,337 ----------------------------------------------------------------------------------------------------\n",
            "2021-05-26 15:24:54,348 Device: cuda:0\n",
            "2021-05-26 15:24:54,351 ----------------------------------------------------------------------------------------------------\n",
            "2021-05-26 15:24:54,355 Embeddings storage mode: cpu\n",
            "2021-05-26 15:24:54,373 ----------------------------------------------------------------------------------------------------\n",
            "2021-05-26 15:25:17,005 epoch 1 - iter 12/129 - loss 69.28765233 - samples/sec: 26.52 - lr: 0.001000\n",
            "2021-05-26 15:25:39,352 epoch 1 - iter 24/129 - loss 69.37682931 - samples/sec: 26.86 - lr: 0.001000\n",
            "2021-05-26 15:26:02,241 epoch 1 - iter 36/129 - loss 67.52161217 - samples/sec: 26.22 - lr: 0.001000\n",
            "2021-05-26 15:26:22,436 epoch 1 - iter 48/129 - loss 65.46874730 - samples/sec: 29.72 - lr: 0.001000\n",
            "2021-05-26 15:26:41,437 epoch 1 - iter 60/129 - loss 63.00793521 - samples/sec: 31.59 - lr: 0.001000\n",
            "2021-05-26 15:27:13,467 epoch 1 - iter 72/129 - loss 64.67860799 - samples/sec: 18.74 - lr: 0.001000\n",
            "2021-05-26 15:27:33,623 epoch 1 - iter 84/129 - loss 62.78772213 - samples/sec: 29.78 - lr: 0.001000\n",
            "2021-05-26 15:27:57,200 epoch 1 - iter 96/129 - loss 61.86348291 - samples/sec: 25.46 - lr: 0.001000\n",
            "2021-05-26 15:28:28,448 epoch 1 - iter 108/129 - loss 62.21487278 - samples/sec: 19.21 - lr: 0.001000\n",
            "2021-05-26 15:28:57,901 epoch 1 - iter 120/129 - loss 61.43668804 - samples/sec: 20.38 - lr: 0.001000\n",
            "2021-05-26 15:29:10,295 ----------------------------------------------------------------------------------------------------\n",
            "2021-05-26 15:29:10,303 EPOCH 1 done: loss 59.7182 - lr 0.0010000\n",
            "2021-05-26 15:29:20,211 DEV : loss 42.740177154541016 - score 0.0033\n",
            "2021-05-26 15:29:20,389 BAD EPOCHS (no improvement): 0\n",
            "saving best model\n",
            "2021-05-26 15:29:21,971 ----------------------------------------------------------------------------------------------------\n",
            "2021-05-26 15:29:53,061 epoch 2 - iter 12/129 - loss 47.44713879 - samples/sec: 19.31 - lr: 0.001000\n",
            "2021-05-26 15:30:21,483 epoch 2 - iter 24/129 - loss 45.72501755 - samples/sec: 21.11 - lr: 0.001000\n",
            "2021-05-26 15:30:48,696 epoch 2 - iter 36/129 - loss 44.38711283 - samples/sec: 22.05 - lr: 0.001000\n",
            "2021-05-26 15:31:09,643 epoch 2 - iter 48/129 - loss 41.75519009 - samples/sec: 28.65 - lr: 0.001000\n",
            "2021-05-26 15:31:33,696 epoch 2 - iter 60/129 - loss 39.95008326 - samples/sec: 24.95 - lr: 0.001000\n",
            "2021-05-26 15:31:56,130 epoch 2 - iter 72/129 - loss 38.42954924 - samples/sec: 26.75 - lr: 0.001000\n",
            "2021-05-26 15:32:17,282 epoch 2 - iter 84/129 - loss 36.89981722 - samples/sec: 28.38 - lr: 0.001000\n",
            "2021-05-26 15:32:42,846 epoch 2 - iter 96/129 - loss 35.45406171 - samples/sec: 23.48 - lr: 0.001000\n",
            "2021-05-26 15:33:06,419 epoch 2 - iter 108/129 - loss 33.96525355 - samples/sec: 25.46 - lr: 0.001000\n",
            "2021-05-26 15:33:30,637 epoch 2 - iter 120/129 - loss 32.76572825 - samples/sec: 24.78 - lr: 0.001000\n",
            "2021-05-26 15:33:45,795 ----------------------------------------------------------------------------------------------------\n",
            "2021-05-26 15:33:45,799 EPOCH 2 done: loss 31.7250 - lr 0.0010000\n",
            "2021-05-26 15:33:55,340 DEV : loss 15.95439624786377 - score 0.0\n",
            "2021-05-26 15:33:55,528 BAD EPOCHS (no improvement): 1\n",
            "2021-05-26 15:33:55,539 ----------------------------------------------------------------------------------------------------\n",
            "2021-05-26 15:34:21,063 epoch 3 - iter 12/129 - loss 17.41412369 - samples/sec: 23.52 - lr: 0.001000\n",
            "2021-05-26 15:34:46,100 epoch 3 - iter 24/129 - loss 15.86197476 - samples/sec: 23.97 - lr: 0.001000\n",
            "2021-05-26 15:35:09,698 epoch 3 - iter 36/129 - loss 15.28181754 - samples/sec: 25.43 - lr: 0.001000\n",
            "2021-05-26 15:35:32,207 epoch 3 - iter 48/129 - loss 14.69652036 - samples/sec: 26.66 - lr: 0.001000\n",
            "2021-05-26 15:35:55,101 epoch 3 - iter 60/129 - loss 14.26516171 - samples/sec: 26.22 - lr: 0.001000\n",
            "2021-05-26 15:36:20,489 epoch 3 - iter 72/129 - loss 13.53887459 - samples/sec: 23.64 - lr: 0.001000\n",
            "2021-05-26 15:36:46,202 epoch 3 - iter 84/129 - loss 13.51029497 - samples/sec: 23.34 - lr: 0.001000\n",
            "2021-05-26 15:37:12,848 epoch 3 - iter 96/129 - loss 13.31281275 - samples/sec: 22.53 - lr: 0.001000\n",
            "2021-05-26 15:37:39,762 epoch 3 - iter 108/129 - loss 12.96107106 - samples/sec: 22.30 - lr: 0.001000\n",
            "2021-05-26 15:38:01,897 epoch 3 - iter 120/129 - loss 12.47536268 - samples/sec: 27.11 - lr: 0.001000\n",
            "2021-05-26 15:38:23,123 ----------------------------------------------------------------------------------------------------\n",
            "2021-05-26 15:38:23,127 EPOCH 3 done: loss 12.2290 - lr 0.0010000\n",
            "2021-05-26 15:38:32,882 DEV : loss 8.479643821716309 - score 0.0\n",
            "2021-05-26 15:38:33,053 BAD EPOCHS (no improvement): 2\n",
            "2021-05-26 15:38:33,064 ----------------------------------------------------------------------------------------------------\n",
            "2021-05-26 15:38:56,064 epoch 4 - iter 12/129 - loss 9.37728715 - samples/sec: 26.10 - lr: 0.001000\n",
            "2021-05-26 15:39:21,804 epoch 4 - iter 24/129 - loss 9.13168674 - samples/sec: 23.32 - lr: 0.001000\n",
            "2021-05-26 15:39:45,504 epoch 4 - iter 36/129 - loss 9.36768377 - samples/sec: 25.33 - lr: 0.001000\n",
            "2021-05-26 15:40:09,242 epoch 4 - iter 48/129 - loss 8.92878249 - samples/sec: 25.28 - lr: 0.001000\n",
            "2021-05-26 15:40:33,064 epoch 4 - iter 60/129 - loss 9.29648165 - samples/sec: 25.20 - lr: 0.001000\n",
            "2021-05-26 15:40:57,529 epoch 4 - iter 72/129 - loss 9.27904082 - samples/sec: 24.53 - lr: 0.001000\n",
            "2021-05-26 15:41:21,741 epoch 4 - iter 84/129 - loss 9.27316241 - samples/sec: 24.79 - lr: 0.001000\n",
            "2021-05-26 15:41:50,310 epoch 4 - iter 96/129 - loss 9.13554297 - samples/sec: 21.01 - lr: 0.001000\n",
            "2021-05-26 15:42:17,301 epoch 4 - iter 108/129 - loss 9.13577864 - samples/sec: 22.24 - lr: 0.001000\n",
            "2021-05-26 15:42:41,453 epoch 4 - iter 120/129 - loss 9.10388881 - samples/sec: 24.85 - lr: 0.001000\n",
            "2021-05-26 15:42:59,390 ----------------------------------------------------------------------------------------------------\n",
            "2021-05-26 15:42:59,396 EPOCH 4 done: loss 8.8658 - lr 0.0010000\n",
            "2021-05-26 15:43:09,074 DEV : loss 7.632534980773926 - score 0.0\n",
            "2021-05-26 15:43:09,271 BAD EPOCHS (no improvement): 3\n",
            "2021-05-26 15:43:09,280 ----------------------------------------------------------------------------------------------------\n",
            "2021-05-26 15:43:32,707 epoch 5 - iter 12/129 - loss 7.25316993 - samples/sec: 25.62 - lr: 0.001000\n",
            "2021-05-26 15:44:02,013 epoch 5 - iter 24/129 - loss 8.56132146 - samples/sec: 20.48 - lr: 0.001000\n",
            "2021-05-26 15:44:28,044 epoch 5 - iter 36/129 - loss 8.29436760 - samples/sec: 23.05 - lr: 0.001000\n",
            "2021-05-26 15:44:53,285 epoch 5 - iter 48/129 - loss 7.93843634 - samples/sec: 23.78 - lr: 0.001000\n",
            "2021-05-26 15:45:20,050 epoch 5 - iter 60/129 - loss 8.03558216 - samples/sec: 22.42 - lr: 0.001000\n",
            "2021-05-26 15:45:45,450 epoch 5 - iter 72/129 - loss 8.22472957 - samples/sec: 23.63 - lr: 0.001000\n",
            "2021-05-26 15:46:11,060 epoch 5 - iter 84/129 - loss 7.97515262 - samples/sec: 23.43 - lr: 0.001000\n",
            "2021-05-26 15:46:34,643 epoch 5 - iter 96/129 - loss 8.06768138 - samples/sec: 25.45 - lr: 0.001000\n",
            "2021-05-26 15:46:56,833 epoch 5 - iter 108/129 - loss 8.10824801 - samples/sec: 27.05 - lr: 0.001000\n",
            "2021-05-26 15:47:20,033 epoch 5 - iter 120/129 - loss 8.04813572 - samples/sec: 25.87 - lr: 0.001000\n",
            "2021-05-26 15:47:35,788 ----------------------------------------------------------------------------------------------------\n",
            "2021-05-26 15:47:35,795 EPOCH 5 done: loss 7.8902 - lr 0.0010000\n",
            "2021-05-26 15:47:45,420 DEV : loss 6.8135786056518555 - score 0.0\n",
            "Epoch     5: reducing learning rate of group 0 to 5.0000e-04.\n",
            "2021-05-26 15:47:45,600 BAD EPOCHS (no improvement): 4\n",
            "2021-05-26 15:47:45,606 ----------------------------------------------------------------------------------------------------\n",
            "2021-05-26 15:48:08,727 epoch 6 - iter 12/129 - loss 6.62690552 - samples/sec: 25.96 - lr: 0.000500\n",
            "2021-05-26 15:48:30,039 epoch 6 - iter 24/129 - loss 6.45156924 - samples/sec: 28.16 - lr: 0.000500\n",
            "2021-05-26 15:48:53,269 epoch 6 - iter 36/129 - loss 7.49162141 - samples/sec: 25.84 - lr: 0.000500\n",
            "2021-05-26 15:49:22,267 epoch 6 - iter 48/129 - loss 7.71790739 - samples/sec: 20.70 - lr: 0.000500\n",
            "2021-05-26 15:49:45,806 epoch 6 - iter 60/129 - loss 7.81699698 - samples/sec: 25.50 - lr: 0.000500\n",
            "2021-05-26 15:50:10,309 epoch 6 - iter 72/129 - loss 7.36751791 - samples/sec: 24.49 - lr: 0.000500\n",
            "2021-05-26 15:50:34,900 epoch 6 - iter 84/129 - loss 7.25561399 - samples/sec: 24.41 - lr: 0.000500\n",
            "2021-05-26 15:50:58,889 epoch 6 - iter 96/129 - loss 7.19325662 - samples/sec: 25.02 - lr: 0.000500\n",
            "2021-05-26 15:51:28,009 epoch 6 - iter 108/129 - loss 7.26934501 - samples/sec: 20.61 - lr: 0.000500\n",
            "2021-05-26 15:51:56,568 epoch 6 - iter 120/129 - loss 7.25153454 - samples/sec: 21.01 - lr: 0.000500\n",
            "2021-05-26 15:52:11,957 ----------------------------------------------------------------------------------------------------\n",
            "2021-05-26 15:52:11,962 EPOCH 6 done: loss 7.2558 - lr 0.0005000\n",
            "2021-05-26 15:52:21,633 DEV : loss 6.397579193115234 - score 0.0\n",
            "2021-05-26 15:52:21,811 BAD EPOCHS (no improvement): 1\n",
            "2021-05-26 15:52:21,819 ----------------------------------------------------------------------------------------------------\n",
            "2021-05-26 15:52:49,680 epoch 7 - iter 12/129 - loss 7.89245590 - samples/sec: 21.54 - lr: 0.000500\n",
            "2021-05-26 15:53:11,906 epoch 7 - iter 24/129 - loss 7.44253083 - samples/sec: 27.01 - lr: 0.000500\n",
            "2021-05-26 15:53:35,240 epoch 7 - iter 36/129 - loss 7.15719657 - samples/sec: 25.72 - lr: 0.000500\n",
            "2021-05-26 15:54:02,537 epoch 7 - iter 48/129 - loss 7.24477664 - samples/sec: 21.99 - lr: 0.000500\n",
            "2021-05-26 15:54:26,061 epoch 7 - iter 60/129 - loss 7.32117016 - samples/sec: 25.51 - lr: 0.000500\n",
            "2021-05-26 15:54:54,993 epoch 7 - iter 72/129 - loss 7.22999503 - samples/sec: 20.74 - lr: 0.000500\n",
            "2021-05-26 15:55:16,772 epoch 7 - iter 84/129 - loss 7.10950848 - samples/sec: 27.56 - lr: 0.000500\n",
            "2021-05-26 15:55:38,609 epoch 7 - iter 96/129 - loss 6.82478356 - samples/sec: 27.49 - lr: 0.000500\n",
            "2021-05-26 15:56:01,756 epoch 7 - iter 108/129 - loss 6.94331828 - samples/sec: 25.93 - lr: 0.000500\n",
            "2021-05-26 15:56:24,858 epoch 7 - iter 120/129 - loss 6.87433005 - samples/sec: 25.98 - lr: 0.000500\n",
            "2021-05-26 15:56:48,234 ----------------------------------------------------------------------------------------------------\n",
            "2021-05-26 15:56:48,239 EPOCH 7 done: loss 6.8208 - lr 0.0005000\n",
            "2021-05-26 15:56:57,878 DEV : loss 6.043575286865234 - score 0.0\n",
            "2021-05-26 15:56:58,057 BAD EPOCHS (no improvement): 2\n",
            "2021-05-26 15:56:58,075 ----------------------------------------------------------------------------------------------------\n",
            "2021-05-26 15:57:26,163 epoch 8 - iter 12/129 - loss 6.19562556 - samples/sec: 21.37 - lr: 0.000500\n",
            "2021-05-26 15:57:55,325 epoch 8 - iter 24/129 - loss 6.87113990 - samples/sec: 20.58 - lr: 0.000500\n",
            "2021-05-26 15:58:17,478 epoch 8 - iter 36/129 - loss 6.83988004 - samples/sec: 27.09 - lr: 0.000500\n",
            "2021-05-26 15:58:40,187 epoch 8 - iter 48/129 - loss 6.67230899 - samples/sec: 26.43 - lr: 0.000500\n",
            "2021-05-26 15:59:02,541 epoch 8 - iter 60/129 - loss 6.67005199 - samples/sec: 26.85 - lr: 0.000500\n",
            "2021-05-26 15:59:28,149 epoch 8 - iter 72/129 - loss 6.76448648 - samples/sec: 23.44 - lr: 0.000500\n",
            "2021-05-26 15:59:49,657 epoch 8 - iter 84/129 - loss 6.66784877 - samples/sec: 27.90 - lr: 0.000500\n",
            "2021-05-26 16:00:18,428 epoch 8 - iter 96/129 - loss 6.59868749 - samples/sec: 20.86 - lr: 0.000500\n",
            "2021-05-26 16:00:40,988 epoch 8 - iter 108/129 - loss 6.51884837 - samples/sec: 26.60 - lr: 0.000500\n",
            "2021-05-26 16:01:07,961 epoch 8 - iter 120/129 - loss 6.48853565 - samples/sec: 22.25 - lr: 0.000500\n",
            "2021-05-26 16:01:24,047 ----------------------------------------------------------------------------------------------------\n",
            "2021-05-26 16:01:24,057 EPOCH 8 done: loss 6.4684 - lr 0.0005000\n",
            "2021-05-26 16:01:33,704 DEV : loss 5.734638214111328 - score 0.0\n",
            "2021-05-26 16:01:33,886 BAD EPOCHS (no improvement): 3\n",
            "2021-05-26 16:01:33,893 ----------------------------------------------------------------------------------------------------\n",
            "2021-05-26 16:02:01,846 epoch 9 - iter 12/129 - loss 6.99744157 - samples/sec: 21.47 - lr: 0.000500\n",
            "2021-05-26 16:02:28,636 epoch 9 - iter 24/129 - loss 6.46286692 - samples/sec: 22.40 - lr: 0.000500\n",
            "2021-05-26 16:02:54,035 epoch 9 - iter 36/129 - loss 6.11055429 - samples/sec: 23.63 - lr: 0.000500\n",
            "2021-05-26 16:03:15,434 epoch 9 - iter 48/129 - loss 6.13269884 - samples/sec: 28.05 - lr: 0.000500\n",
            "2021-05-26 16:03:39,395 epoch 9 - iter 60/129 - loss 6.15314007 - samples/sec: 25.05 - lr: 0.000500\n",
            "2021-05-26 16:04:04,254 epoch 9 - iter 72/129 - loss 6.18059919 - samples/sec: 24.15 - lr: 0.000500\n",
            "2021-05-26 16:04:34,006 epoch 9 - iter 84/129 - loss 6.32706669 - samples/sec: 20.17 - lr: 0.000500\n",
            "2021-05-26 16:04:57,391 epoch 9 - iter 96/129 - loss 6.37881806 - samples/sec: 25.67 - lr: 0.000500\n",
            "2021-05-26 16:05:20,674 epoch 9 - iter 108/129 - loss 6.27553748 - samples/sec: 25.78 - lr: 0.000500\n",
            "2021-05-26 16:05:45,779 epoch 9 - iter 120/129 - loss 6.17051461 - samples/sec: 23.91 - lr: 0.000500\n",
            "2021-05-26 16:06:02,331 ----------------------------------------------------------------------------------------------------\n",
            "2021-05-26 16:06:02,341 EPOCH 9 done: loss 6.1725 - lr 0.0005000\n",
            "2021-05-26 16:06:11,850 DEV : loss 5.492292404174805 - score 0.0\n",
            "Epoch     9: reducing learning rate of group 0 to 2.5000e-04.\n",
            "2021-05-26 16:06:12,035 BAD EPOCHS (no improvement): 4\n",
            "2021-05-26 16:06:12,045 ----------------------------------------------------------------------------------------------------\n",
            "2021-05-26 16:06:36,888 epoch 10 - iter 12/129 - loss 5.73038199 - samples/sec: 24.16 - lr: 0.000250\n",
            "2021-05-26 16:07:05,091 epoch 10 - iter 24/129 - loss 6.18100847 - samples/sec: 21.28 - lr: 0.000250\n",
            "2021-05-26 16:07:27,688 epoch 10 - iter 36/129 - loss 6.03040881 - samples/sec: 26.56 - lr: 0.000250\n",
            "2021-05-26 16:07:57,471 epoch 10 - iter 48/129 - loss 6.25096448 - samples/sec: 20.15 - lr: 0.000250\n",
            "2021-05-26 16:08:20,872 epoch 10 - iter 60/129 - loss 6.05308860 - samples/sec: 25.65 - lr: 0.000250\n",
            "2021-05-26 16:08:46,013 epoch 10 - iter 72/129 - loss 5.95952124 - samples/sec: 23.87 - lr: 0.000250\n",
            "2021-05-26 16:09:10,416 epoch 10 - iter 84/129 - loss 5.90073112 - samples/sec: 24.60 - lr: 0.000250\n",
            "2021-05-26 16:09:34,458 epoch 10 - iter 96/129 - loss 6.07694282 - samples/sec: 24.96 - lr: 0.000250\n",
            "2021-05-26 16:09:54,683 epoch 10 - iter 108/129 - loss 5.97519138 - samples/sec: 29.68 - lr: 0.000250\n",
            "2021-05-26 16:10:14,649 epoch 10 - iter 120/129 - loss 5.92805294 - samples/sec: 30.06 - lr: 0.000250\n",
            "2021-05-26 16:10:31,857 ----------------------------------------------------------------------------------------------------\n",
            "2021-05-26 16:10:31,862 EPOCH 10 done: loss 5.9395 - lr 0.0002500\n",
            "2021-05-26 16:10:41,267 DEV : loss 5.372074127197266 - score 0.0\n",
            "2021-05-26 16:10:41,453 BAD EPOCHS (no improvement): 1\n",
            "2021-05-26 16:10:41,465 ----------------------------------------------------------------------------------------------------\n",
            "2021-05-26 16:11:01,356 epoch 11 - iter 12/129 - loss 6.01650884 - samples/sec: 30.18 - lr: 0.000250\n",
            "2021-05-26 16:11:25,498 epoch 11 - iter 24/129 - loss 5.56794444 - samples/sec: 24.86 - lr: 0.000250\n",
            "2021-05-26 16:11:49,375 epoch 11 - iter 36/129 - loss 5.80196054 - samples/sec: 25.14 - lr: 0.000250\n",
            "2021-05-26 16:12:13,504 epoch 11 - iter 48/129 - loss 5.87521198 - samples/sec: 24.88 - lr: 0.000250\n",
            "2021-05-26 16:12:38,065 epoch 11 - iter 60/129 - loss 5.94224318 - samples/sec: 24.43 - lr: 0.000250\n",
            "2021-05-26 16:13:05,358 epoch 11 - iter 72/129 - loss 5.96003009 - samples/sec: 21.99 - lr: 0.000250\n",
            "2021-05-26 16:13:35,772 epoch 11 - iter 84/129 - loss 5.91515020 - samples/sec: 19.73 - lr: 0.000250\n"
          ],
          "name": "stdout"
        }
      ]
    },
    {
      "cell_type": "code",
      "metadata": {
        "id": "1f_4C828R1nv",
        "colab": {
          "base_uri": "https://localhost:8080/",
          "height": 895
        },
        "outputId": "9305537c-a84a-4c26-8203-b5c53305d8e2"
      },
      "source": [
        "from flair.visual.training_curves import Plotter\n",
        "plotter = Plotter()\n",
        "plotter.plot_training_curves( os.getcwd() + '/flair_glove/loss.tsv')"
      ],
      "execution_count": null,
      "outputs": [
        {
          "output_type": "stream",
          "text": [
            "2021-05-26 15:24:12,670 ----------------------------------------------------------------------------------------------------\n",
            "2021-05-26 15:24:12,678 WARNING: No LOSS found for test split in this data.\n",
            "2021-05-26 15:24:12,684 Are you sure you want to plot LOSS and not another value?\n",
            "2021-05-26 15:24:12,689 ----------------------------------------------------------------------------------------------------\n",
            "2021-05-26 15:24:12,719 ----------------------------------------------------------------------------------------------------\n",
            "2021-05-26 15:24:12,723 WARNING: No F1 found for test split in this data.\n",
            "2021-05-26 15:24:12,728 Are you sure you want to plot F1 and not another value?\n",
            "2021-05-26 15:24:12,732 ----------------------------------------------------------------------------------------------------\n",
            "Loss and F1 plots are saved in /content/gdrive/My Drive/flair/flair_glove/training.png\n"
          ],
          "name": "stdout"
        },
        {
          "output_type": "display_data",
          "data": {
            "image/png": "[encoded data removed]",
            "text/plain": [
              "<Figure size 1080x720 with 2 Axes>"
            ]
          },
          "metadata": {
            "tags": [],
            "needs_background": "light"
          }
        }
      ]
    },
    {
      "cell_type": "markdown",
      "metadata": {
        "id": "QJgHHeR6Boaf"
      },
      "source": [
        "__Question 2__: Suggest, how could you improve the F1-value?<br>\n",
        "Are 5 epochs enough for training?<br>\n",
        "How could you speed up computation?"
      ]
    }
  ]
}